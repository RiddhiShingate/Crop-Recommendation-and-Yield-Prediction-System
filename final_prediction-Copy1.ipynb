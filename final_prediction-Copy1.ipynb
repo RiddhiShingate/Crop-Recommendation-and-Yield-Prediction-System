{
 "cells": [
  {
   "cell_type": "code",
   "execution_count": 1,
   "id": "a39fbd55",
   "metadata": {},
   "outputs": [],
   "source": [
    "import pandas as pd\n",
    "from sklearn.model_selection import train_test_split\n",
    "from sklearn.ensemble import RandomForestRegressor\n",
    "from sklearn.metrics import mean_squared_error\n",
    "\n",
    "import numpy as np # linear algebra\n",
    "import pandas as pd # data processing, CSV file I/O (e.g. pd.read_csv)\n",
    "import seaborn as sns\n",
    "import matplotlib.pyplot as plt"
   ]
  },
  {
   "cell_type": "code",
   "execution_count": 2,
   "id": "65ca3358",
   "metadata": {},
   "outputs": [
    {
     "data": {
      "text/html": [
       "<div>\n",
       "<style scoped>\n",
       "    .dataframe tbody tr th:only-of-type {\n",
       "        vertical-align: middle;\n",
       "    }\n",
       "\n",
       "    .dataframe tbody tr th {\n",
       "        vertical-align: top;\n",
       "    }\n",
       "\n",
       "    .dataframe thead th {\n",
       "        text-align: right;\n",
       "    }\n",
       "</style>\n",
       "<table border=\"1\" class=\"dataframe\">\n",
       "  <thead>\n",
       "    <tr style=\"text-align: right;\">\n",
       "      <th></th>\n",
       "      <th>Crop_Year</th>\n",
       "      <th>Season</th>\n",
       "      <th>Crop</th>\n",
       "      <th>Area</th>\n",
       "      <th>Production</th>\n",
       "    </tr>\n",
       "  </thead>\n",
       "  <tbody>\n",
       "    <tr>\n",
       "      <th>0</th>\n",
       "      <td>1997</td>\n",
       "      <td>Kharif</td>\n",
       "      <td>Arhar/Tur</td>\n",
       "      <td>17600</td>\n",
       "      <td>6300.0</td>\n",
       "    </tr>\n",
       "    <tr>\n",
       "      <th>1</th>\n",
       "      <td>1997</td>\n",
       "      <td>Kharif</td>\n",
       "      <td>Bajra</td>\n",
       "      <td>274100</td>\n",
       "      <td>152800.0</td>\n",
       "    </tr>\n",
       "    <tr>\n",
       "      <th>2</th>\n",
       "      <td>1997</td>\n",
       "      <td>Kharif</td>\n",
       "      <td>Gram</td>\n",
       "      <td>40800</td>\n",
       "      <td>18600.0</td>\n",
       "    </tr>\n",
       "    <tr>\n",
       "      <th>3</th>\n",
       "      <td>1997</td>\n",
       "      <td>Kharif</td>\n",
       "      <td>Jowar</td>\n",
       "      <td>900</td>\n",
       "      <td>1100.0</td>\n",
       "    </tr>\n",
       "    <tr>\n",
       "      <th>4</th>\n",
       "      <td>1997</td>\n",
       "      <td>Kharif</td>\n",
       "      <td>Maize</td>\n",
       "      <td>4400</td>\n",
       "      <td>4700.0</td>\n",
       "    </tr>\n",
       "    <tr>\n",
       "      <th>...</th>\n",
       "      <td>...</td>\n",
       "      <td>...</td>\n",
       "      <td>...</td>\n",
       "      <td>...</td>\n",
       "      <td>...</td>\n",
       "    </tr>\n",
       "    <tr>\n",
       "      <th>12622</th>\n",
       "      <td>2014</td>\n",
       "      <td>Rabi</td>\n",
       "      <td>Jowar</td>\n",
       "      <td>4000</td>\n",
       "      <td>3300.0</td>\n",
       "    </tr>\n",
       "    <tr>\n",
       "      <th>12623</th>\n",
       "      <td>2014</td>\n",
       "      <td>Rabi</td>\n",
       "      <td>Maize</td>\n",
       "      <td>1300</td>\n",
       "      <td>200.0</td>\n",
       "    </tr>\n",
       "    <tr>\n",
       "      <th>12624</th>\n",
       "      <td>2014</td>\n",
       "      <td>Rabi</td>\n",
       "      <td>Wheat</td>\n",
       "      <td>29100</td>\n",
       "      <td>26800.0</td>\n",
       "    </tr>\n",
       "    <tr>\n",
       "      <th>12625</th>\n",
       "      <td>2014</td>\n",
       "      <td>Summer</td>\n",
       "      <td>Groundnut</td>\n",
       "      <td>9400</td>\n",
       "      <td>11500.0</td>\n",
       "    </tr>\n",
       "    <tr>\n",
       "      <th>12626</th>\n",
       "      <td>2014</td>\n",
       "      <td>Whole Year</td>\n",
       "      <td>Sugarcane</td>\n",
       "      <td>8100</td>\n",
       "      <td>553700.0</td>\n",
       "    </tr>\n",
       "  </tbody>\n",
       "</table>\n",
       "<p>12627 rows × 5 columns</p>\n",
       "</div>"
      ],
      "text/plain": [
       "       Crop_Year       Season       Crop    Area  Production\n",
       "0           1997  Kharif       Arhar/Tur   17600      6300.0\n",
       "1           1997  Kharif           Bajra  274100    152800.0\n",
       "2           1997  Kharif            Gram   40800     18600.0\n",
       "3           1997  Kharif           Jowar     900      1100.0\n",
       "4           1997  Kharif           Maize    4400      4700.0\n",
       "...          ...          ...        ...     ...         ...\n",
       "12622       2014  Rabi             Jowar    4000      3300.0\n",
       "12623       2014  Rabi             Maize    1300       200.0\n",
       "12624       2014  Rabi             Wheat   29100     26800.0\n",
       "12625       2014  Summer       Groundnut    9400     11500.0\n",
       "12626       2014  Whole Year   Sugarcane    8100    553700.0\n",
       "\n",
       "[12627 rows x 5 columns]"
      ]
     },
     "execution_count": 2,
     "metadata": {},
     "output_type": "execute_result"
    }
   ],
   "source": [
    "crop_data=pd.read_csv(\"yeildPredictionDS1.csv\")\n",
    "crop_data"
   ]
  },
  {
   "cell_type": "code",
   "execution_count": 3,
   "id": "4895fd35",
   "metadata": {},
   "outputs": [
    {
     "data": {
      "text/html": [
       "<div>\n",
       "<style scoped>\n",
       "    .dataframe tbody tr th:only-of-type {\n",
       "        vertical-align: middle;\n",
       "    }\n",
       "\n",
       "    .dataframe tbody tr th {\n",
       "        vertical-align: top;\n",
       "    }\n",
       "\n",
       "    .dataframe thead th {\n",
       "        text-align: right;\n",
       "    }\n",
       "</style>\n",
       "<table border=\"1\" class=\"dataframe\">\n",
       "  <thead>\n",
       "    <tr style=\"text-align: right;\">\n",
       "      <th></th>\n",
       "      <th>Crop_Year</th>\n",
       "      <th>Season</th>\n",
       "      <th>Crop</th>\n",
       "      <th>Area</th>\n",
       "      <th>Production</th>\n",
       "      <th>Yield</th>\n",
       "    </tr>\n",
       "  </thead>\n",
       "  <tbody>\n",
       "    <tr>\n",
       "      <th>0</th>\n",
       "      <td>1997</td>\n",
       "      <td>Kharif</td>\n",
       "      <td>Arhar/Tur</td>\n",
       "      <td>17600</td>\n",
       "      <td>6300.0</td>\n",
       "      <td>0.357955</td>\n",
       "    </tr>\n",
       "    <tr>\n",
       "      <th>1</th>\n",
       "      <td>1997</td>\n",
       "      <td>Kharif</td>\n",
       "      <td>Bajra</td>\n",
       "      <td>274100</td>\n",
       "      <td>152800.0</td>\n",
       "      <td>0.557461</td>\n",
       "    </tr>\n",
       "    <tr>\n",
       "      <th>2</th>\n",
       "      <td>1997</td>\n",
       "      <td>Kharif</td>\n",
       "      <td>Gram</td>\n",
       "      <td>40800</td>\n",
       "      <td>18600.0</td>\n",
       "      <td>0.455882</td>\n",
       "    </tr>\n",
       "    <tr>\n",
       "      <th>3</th>\n",
       "      <td>1997</td>\n",
       "      <td>Kharif</td>\n",
       "      <td>Jowar</td>\n",
       "      <td>900</td>\n",
       "      <td>1100.0</td>\n",
       "      <td>1.222222</td>\n",
       "    </tr>\n",
       "    <tr>\n",
       "      <th>4</th>\n",
       "      <td>1997</td>\n",
       "      <td>Kharif</td>\n",
       "      <td>Maize</td>\n",
       "      <td>4400</td>\n",
       "      <td>4700.0</td>\n",
       "      <td>1.068182</td>\n",
       "    </tr>\n",
       "    <tr>\n",
       "      <th>5</th>\n",
       "      <td>1997</td>\n",
       "      <td>Kharif</td>\n",
       "      <td>Moong(Green Gram)</td>\n",
       "      <td>10200</td>\n",
       "      <td>900.0</td>\n",
       "      <td>0.088235</td>\n",
       "    </tr>\n",
       "    <tr>\n",
       "      <th>6</th>\n",
       "      <td>1997</td>\n",
       "      <td>Kharif</td>\n",
       "      <td>Pulses total</td>\n",
       "      <td>451</td>\n",
       "      <td>130.0</td>\n",
       "      <td>0.288248</td>\n",
       "    </tr>\n",
       "    <tr>\n",
       "      <th>7</th>\n",
       "      <td>1997</td>\n",
       "      <td>Kharif</td>\n",
       "      <td>Ragi</td>\n",
       "      <td>2600</td>\n",
       "      <td>2100.0</td>\n",
       "      <td>0.807692</td>\n",
       "    </tr>\n",
       "    <tr>\n",
       "      <th>8</th>\n",
       "      <td>1997</td>\n",
       "      <td>Kharif</td>\n",
       "      <td>Rice</td>\n",
       "      <td>5900</td>\n",
       "      <td>7200.0</td>\n",
       "      <td>1.220339</td>\n",
       "    </tr>\n",
       "    <tr>\n",
       "      <th>9</th>\n",
       "      <td>1997</td>\n",
       "      <td>Kharif</td>\n",
       "      <td>Sugarcane</td>\n",
       "      <td>45900</td>\n",
       "      <td>38940.0</td>\n",
       "      <td>0.848366</td>\n",
       "    </tr>\n",
       "  </tbody>\n",
       "</table>\n",
       "</div>"
      ],
      "text/plain": [
       "   Crop_Year       Season               Crop    Area  Production     Yield\n",
       "0       1997  Kharif               Arhar/Tur   17600      6300.0  0.357955\n",
       "1       1997  Kharif                   Bajra  274100    152800.0  0.557461\n",
       "2       1997  Kharif                    Gram   40800     18600.0  0.455882\n",
       "3       1997  Kharif                   Jowar     900      1100.0  1.222222\n",
       "4       1997  Kharif                   Maize    4400      4700.0  1.068182\n",
       "5       1997  Kharif       Moong(Green Gram)   10200       900.0  0.088235\n",
       "6       1997  Kharif            Pulses total     451       130.0  0.288248\n",
       "7       1997  Kharif                    Ragi    2600      2100.0  0.807692\n",
       "8       1997  Kharif                    Rice    5900      7200.0  1.220339\n",
       "9       1997  Kharif               Sugarcane   45900     38940.0  0.848366"
      ]
     },
     "execution_count": 3,
     "metadata": {},
     "output_type": "execute_result"
    }
   ],
   "source": [
    "crop_data['Yield'] = (crop_data['Production'] / crop_data['Area'])\n",
    "crop_data.head(10) "
   ]
  },
  {
   "cell_type": "code",
   "execution_count": 4,
   "id": "48aee557",
   "metadata": {},
   "outputs": [
    {
     "data": {
      "text/plain": [
       "(12627, 6)"
      ]
     },
     "execution_count": 4,
     "metadata": {},
     "output_type": "execute_result"
    }
   ],
   "source": [
    "\n",
    "crop_data.shape\n"
   ]
  },
  {
   "cell_type": "code",
   "execution_count": 5,
   "id": "9576a8f7",
   "metadata": {},
   "outputs": [
    {
     "name": "stdout",
     "output_type": "stream",
     "text": [
      "<class 'pandas.core.frame.DataFrame'>\n",
      "RangeIndex: 12627 entries, 0 to 12626\n",
      "Data columns (total 6 columns):\n",
      " #   Column      Non-Null Count  Dtype  \n",
      "---  ------      --------------  -----  \n",
      " 0   Crop_Year   12627 non-null  int64  \n",
      " 1   Season      12627 non-null  object \n",
      " 2   Crop        12627 non-null  object \n",
      " 3   Area        12627 non-null  int64  \n",
      " 4   Production  12495 non-null  float64\n",
      " 5   Yield       12495 non-null  float64\n",
      "dtypes: float64(2), int64(2), object(2)\n",
      "memory usage: 592.0+ KB\n"
     ]
    }
   ],
   "source": [
    "crop_data.info()"
   ]
  },
  {
   "cell_type": "code",
   "execution_count": 6,
   "id": "5183601c",
   "metadata": {},
   "outputs": [
    {
     "data": {
      "text/plain": [
       "Crop_Year       0\n",
       "Season          0\n",
       "Crop            0\n",
       "Area            0\n",
       "Production    132\n",
       "Yield         132\n",
       "dtype: int64"
      ]
     },
     "execution_count": 6,
     "metadata": {},
     "output_type": "execute_result"
    }
   ],
   "source": [
    "\n",
    "crop_data.isnull().sum()"
   ]
  },
  {
   "cell_type": "code",
   "execution_count": 7,
   "id": "a807b844",
   "metadata": {},
   "outputs": [],
   "source": [
    "crop_data=crop_data.dropna()"
   ]
  },
  {
   "cell_type": "code",
   "execution_count": 8,
   "id": "53ddf1a4",
   "metadata": {},
   "outputs": [
    {
     "data": {
      "text/plain": [
       "Crop_Year     0\n",
       "Season        0\n",
       "Crop          0\n",
       "Area          0\n",
       "Production    0\n",
       "Yield         0\n",
       "dtype: int64"
      ]
     },
     "execution_count": 8,
     "metadata": {},
     "output_type": "execute_result"
    }
   ],
   "source": [
    "crop_data.isnull().sum()"
   ]
  },
  {
   "cell_type": "code",
   "execution_count": 9,
   "id": "7d2a517e",
   "metadata": {},
   "outputs": [
    {
     "data": {
      "text/plain": [
       "1155"
      ]
     },
     "execution_count": 9,
     "metadata": {},
     "output_type": "execute_result"
    }
   ],
   "source": [
    "crop_data.duplicated().sum()"
   ]
  },
  {
   "cell_type": "code",
   "execution_count": 10,
   "id": "a7add909",
   "metadata": {},
   "outputs": [
    {
     "name": "stderr",
     "output_type": "stream",
     "text": [
      "C:\\Users\\riddh\\AppData\\Local\\Temp\\ipykernel_574892\\1643394439.py:1: SettingWithCopyWarning: \n",
      "A value is trying to be set on a copy of a slice from a DataFrame\n",
      "\n",
      "See the caveats in the documentation: https://pandas.pydata.org/pandas-docs/stable/user_guide/indexing.html#returning-a-view-versus-a-copy\n",
      "  crop_data.drop_duplicates(inplace=True)\n"
     ]
    }
   ],
   "source": [
    "crop_data.drop_duplicates(inplace=True)"
   ]
  },
  {
   "cell_type": "code",
   "execution_count": 11,
   "id": "8b373a47",
   "metadata": {},
   "outputs": [
    {
     "data": {
      "text/plain": [
       "0"
      ]
     },
     "execution_count": 11,
     "metadata": {},
     "output_type": "execute_result"
    }
   ],
   "source": [
    "crop_data.duplicated().sum()"
   ]
  },
  {
   "cell_type": "code",
   "execution_count": 12,
   "id": "6af2cfcc",
   "metadata": {},
   "outputs": [],
   "source": [
    "col = ['Crop_Year','Area','Production','Season','Crop','Yield']\n",
    "crop_data = crop_data[col]\n",
    "X = crop_data.drop(columns=['Yield'])  # Features\n",
    "y = crop_data['Yield'] "
   ]
  },
  {
   "cell_type": "code",
   "execution_count": 13,
   "id": "a1f78120",
   "metadata": {},
   "outputs": [
    {
     "data": {
      "text/html": [
       "<div>\n",
       "<style scoped>\n",
       "    .dataframe tbody tr th:only-of-type {\n",
       "        vertical-align: middle;\n",
       "    }\n",
       "\n",
       "    .dataframe tbody tr th {\n",
       "        vertical-align: top;\n",
       "    }\n",
       "\n",
       "    .dataframe thead th {\n",
       "        text-align: right;\n",
       "    }\n",
       "</style>\n",
       "<table border=\"1\" class=\"dataframe\">\n",
       "  <thead>\n",
       "    <tr style=\"text-align: right;\">\n",
       "      <th></th>\n",
       "      <th>Crop_Year</th>\n",
       "      <th>Area</th>\n",
       "      <th>Production</th>\n",
       "      <th>Season</th>\n",
       "      <th>Crop</th>\n",
       "      <th>Yield</th>\n",
       "    </tr>\n",
       "  </thead>\n",
       "  <tbody>\n",
       "    <tr>\n",
       "      <th>0</th>\n",
       "      <td>1997</td>\n",
       "      <td>17600</td>\n",
       "      <td>6300.0</td>\n",
       "      <td>Kharif</td>\n",
       "      <td>Arhar/Tur</td>\n",
       "      <td>0.357955</td>\n",
       "    </tr>\n",
       "    <tr>\n",
       "      <th>1</th>\n",
       "      <td>1997</td>\n",
       "      <td>274100</td>\n",
       "      <td>152800.0</td>\n",
       "      <td>Kharif</td>\n",
       "      <td>Bajra</td>\n",
       "      <td>0.557461</td>\n",
       "    </tr>\n",
       "    <tr>\n",
       "      <th>2</th>\n",
       "      <td>1997</td>\n",
       "      <td>40800</td>\n",
       "      <td>18600.0</td>\n",
       "      <td>Kharif</td>\n",
       "      <td>Gram</td>\n",
       "      <td>0.455882</td>\n",
       "    </tr>\n",
       "    <tr>\n",
       "      <th>3</th>\n",
       "      <td>1997</td>\n",
       "      <td>900</td>\n",
       "      <td>1100.0</td>\n",
       "      <td>Kharif</td>\n",
       "      <td>Jowar</td>\n",
       "      <td>1.222222</td>\n",
       "    </tr>\n",
       "    <tr>\n",
       "      <th>4</th>\n",
       "      <td>1997</td>\n",
       "      <td>4400</td>\n",
       "      <td>4700.0</td>\n",
       "      <td>Kharif</td>\n",
       "      <td>Maize</td>\n",
       "      <td>1.068182</td>\n",
       "    </tr>\n",
       "    <tr>\n",
       "      <th>...</th>\n",
       "      <td>...</td>\n",
       "      <td>...</td>\n",
       "      <td>...</td>\n",
       "      <td>...</td>\n",
       "      <td>...</td>\n",
       "      <td>...</td>\n",
       "    </tr>\n",
       "    <tr>\n",
       "      <th>12622</th>\n",
       "      <td>2014</td>\n",
       "      <td>4000</td>\n",
       "      <td>3300.0</td>\n",
       "      <td>Rabi</td>\n",
       "      <td>Jowar</td>\n",
       "      <td>0.825000</td>\n",
       "    </tr>\n",
       "    <tr>\n",
       "      <th>12623</th>\n",
       "      <td>2014</td>\n",
       "      <td>1300</td>\n",
       "      <td>200.0</td>\n",
       "      <td>Rabi</td>\n",
       "      <td>Maize</td>\n",
       "      <td>0.153846</td>\n",
       "    </tr>\n",
       "    <tr>\n",
       "      <th>12624</th>\n",
       "      <td>2014</td>\n",
       "      <td>29100</td>\n",
       "      <td>26800.0</td>\n",
       "      <td>Rabi</td>\n",
       "      <td>Wheat</td>\n",
       "      <td>0.920962</td>\n",
       "    </tr>\n",
       "    <tr>\n",
       "      <th>12625</th>\n",
       "      <td>2014</td>\n",
       "      <td>9400</td>\n",
       "      <td>11500.0</td>\n",
       "      <td>Summer</td>\n",
       "      <td>Groundnut</td>\n",
       "      <td>1.223404</td>\n",
       "    </tr>\n",
       "    <tr>\n",
       "      <th>12626</th>\n",
       "      <td>2014</td>\n",
       "      <td>8100</td>\n",
       "      <td>553700.0</td>\n",
       "      <td>Whole Year</td>\n",
       "      <td>Sugarcane</td>\n",
       "      <td>68.358025</td>\n",
       "    </tr>\n",
       "  </tbody>\n",
       "</table>\n",
       "<p>11340 rows × 6 columns</p>\n",
       "</div>"
      ],
      "text/plain": [
       "       Crop_Year    Area  Production       Season       Crop      Yield\n",
       "0           1997   17600      6300.0  Kharif       Arhar/Tur   0.357955\n",
       "1           1997  274100    152800.0  Kharif           Bajra   0.557461\n",
       "2           1997   40800     18600.0  Kharif            Gram   0.455882\n",
       "3           1997     900      1100.0  Kharif           Jowar   1.222222\n",
       "4           1997    4400      4700.0  Kharif           Maize   1.068182\n",
       "...          ...     ...         ...          ...        ...        ...\n",
       "12622       2014    4000      3300.0  Rabi             Jowar   0.825000\n",
       "12623       2014    1300       200.0  Rabi             Maize   0.153846\n",
       "12624       2014   29100     26800.0  Rabi             Wheat   0.920962\n",
       "12625       2014    9400     11500.0  Summer       Groundnut   1.223404\n",
       "12626       2014    8100    553700.0  Whole Year   Sugarcane  68.358025\n",
       "\n",
       "[11340 rows x 6 columns]"
      ]
     },
     "execution_count": 13,
     "metadata": {},
     "output_type": "execute_result"
    }
   ],
   "source": [
    "crop_data\n"
   ]
  },
  {
   "cell_type": "code",
   "execution_count": 14,
   "id": "d04f1de3",
   "metadata": {},
   "outputs": [
    {
     "ename": "NameError",
     "evalue": "name 'OneHotEncoder' is not defined",
     "output_type": "error",
     "traceback": [
      "\u001b[1;31m---------------------------------------------------------------------------\u001b[0m",
      "\u001b[1;31mNameError\u001b[0m                                 Traceback (most recent call last)",
      "Cell \u001b[1;32mIn[14], line 1\u001b[0m\n\u001b[1;32m----> 1\u001b[0m ohe \u001b[38;5;241m=\u001b[39m OneHotEncoder( handle_unknown\u001b[38;5;241m=\u001b[39m\u001b[38;5;124m'\u001b[39m\u001b[38;5;124mignore\u001b[39m\u001b[38;5;124m'\u001b[39m)\n\u001b[0;32m      2\u001b[0m scale \u001b[38;5;241m=\u001b[39m StandardScaler()\n",
      "\u001b[1;31mNameError\u001b[0m: name 'OneHotEncoder' is not defined"
     ]
    }
   ],
   "source": []
  },
  {
   "cell_type": "code",
   "execution_count": 15,
   "id": "992a3c73",
   "metadata": {},
   "outputs": [],
   "source": [
    "from sklearn.preprocessing import OneHotEncoder\n",
    "from sklearn.compose import ColumnTransformer\n",
    "from sklearn.preprocessing import StandardScaler\n",
    "ohe = OneHotEncoder( handle_unknown='ignore')\n",
    "scale = StandardScaler()\n",
    "\n",
    "preprocesser = ColumnTransformer(\n",
    "        transformers = [\n",
    "            ('StandardScale', scale, [0, 1, 2]),\n",
    "            ('OHE', ohe, [3,4]),\n",
    "        ],\n",
    "        remainder='passthrough'\n",
    ")"
   ]
  },
  {
   "cell_type": "code",
   "execution_count": 16,
   "id": "60f8e33c",
   "metadata": {},
   "outputs": [],
   "source": [
    "X_train, X_test, y_train, y_test = train_test_split(X, y, test_size=0.2, random_state=42)"
   ]
  },
  {
   "cell_type": "code",
   "execution_count": 17,
   "id": "a2d407ba",
   "metadata": {},
   "outputs": [],
   "source": [
    "X_train_dummy = preprocesser.fit_transform(X_train)\n",
    "X_test_dummy = preprocesser.transform(X_test)"
   ]
  },
  {
   "cell_type": "code",
   "execution_count": 18,
   "id": "7440d777",
   "metadata": {},
   "outputs": [
    {
     "data": {
      "text/plain": [
       "array(['StandardScale__Crop_Year', 'StandardScale__Area',\n",
       "       'StandardScale__Production', 'OHE__Season_Autumn     ',\n",
       "       'OHE__Season_Kharif     ', 'OHE__Season_Rabi       ',\n",
       "       'OHE__Season_Summer     ', 'OHE__Season_Whole Year ',\n",
       "       'OHE__Crop_Arhar/Tur', 'OHE__Crop_Bajra', 'OHE__Crop_Banana',\n",
       "       'OHE__Crop_Castor seed', 'OHE__Crop_Cotton(lint)',\n",
       "       'OHE__Crop_Gram', 'OHE__Crop_Grapes', 'OHE__Crop_Groundnut',\n",
       "       'OHE__Crop_Jowar', 'OHE__Crop_Linseed', 'OHE__Crop_Maize',\n",
       "       'OHE__Crop_Mango', 'OHE__Crop_Moong(Green Gram)',\n",
       "       'OHE__Crop_Niger seed', 'OHE__Crop_Onion',\n",
       "       'OHE__Crop_Other  Rabi pulses',\n",
       "       'OHE__Crop_Other Cereals & Millets',\n",
       "       'OHE__Crop_Other Kharif pulses', 'OHE__Crop_Pulses total',\n",
       "       'OHE__Crop_Ragi', 'OHE__Crop_Rapeseed &Mustard', 'OHE__Crop_Rice',\n",
       "       'OHE__Crop_Safflower', 'OHE__Crop_Sesamum',\n",
       "       'OHE__Crop_Small millets', 'OHE__Crop_Soyabean',\n",
       "       'OHE__Crop_Sugarcane', 'OHE__Crop_Sunflower', 'OHE__Crop_Tobacco',\n",
       "       'OHE__Crop_Tomato', 'OHE__Crop_Total foodgrain', 'OHE__Crop_Urad',\n",
       "       'OHE__Crop_Wheat', 'OHE__Crop_other oilseeds'], dtype=object)"
      ]
     },
     "execution_count": 18,
     "metadata": {},
     "output_type": "execute_result"
    }
   ],
   "source": [
    "preprocesser.get_feature_names_out(col[:-1])"
   ]
  },
  {
   "cell_type": "code",
   "execution_count": 19,
   "id": "c02b2d5f",
   "metadata": {},
   "outputs": [
    {
     "name": "stdout",
     "output_type": "stream",
     "text": [
      "lr : mae : 1.5142795226698103 score : 0.8411338269766947\n",
      "lss : mae : 3.8014474586248377 score : 0.3564602673575564\n",
      "Rid : mae : 1.566199487192299 score : 0.8964362117147998\n",
      "Dtr : mae : 0.8113467801137747 score : 0.7800503395399507\n"
     ]
    }
   ],
   "source": [
    "#linear regression\n",
    "from sklearn.linear_model import LinearRegression,Lasso,Ridge\n",
    "from sklearn.neighbors import KNeighborsRegressor\n",
    "from sklearn.tree import DecisionTreeRegressor\n",
    "from sklearn.metrics import mean_absolute_error,r2_score\n",
    "\n",
    "\n",
    "models = {\n",
    "    'lr':LinearRegression(),\n",
    "    'lss':Lasso(),\n",
    "    'Rid':Ridge(),\n",
    "    'Dtr':DecisionTreeRegressor()\n",
    "}\n",
    "for name, md in models.items():\n",
    "    md.fit(X_train_dummy,y_train)\n",
    "    y_pred = md.predict(X_test_dummy)\n",
    "    \n",
    "    print(f\"{name} : mae : {mean_absolute_error(y_test,y_pred)} score : {r2_score(y_test,y_pred)}\")"
   ]
  },
  {
   "cell_type": "code",
   "execution_count": 20,
   "id": "684f3fe4",
   "metadata": {},
   "outputs": [
    {
     "data": {
      "text/plain": [
       "array([2.10066372, 1.34920635, 0.96666667, ..., 0.69565217, 0.25      ,\n",
       "       0.33258499])"
      ]
     },
     "execution_count": 20,
     "metadata": {},
     "output_type": "execute_result"
    }
   ],
   "source": [
    "dtr = DecisionTreeRegressor()\n",
    "dtr.fit(X_train_dummy,y_train)\n",
    "dtr.predict(X_test_dummy)"
   ]
  },
  {
   "cell_type": "code",
   "execution_count": 21,
   "id": "136db3b4",
   "metadata": {},
   "outputs": [],
   "source": [
    "def prediction(Crop_Year, Area, Production, Season, Crop):\n",
    "    # Create an array of the input features\n",
    "    features = np.array([[Crop_Year, Area, Production, Season, Crop]], dtype=object)\n",
    "\n",
    "    # Transform the features using the preprocessor\n",
    "    try:\n",
    "        transformed_features = preprocesser.transform(features)\n",
    "    except ValueError as e:\n",
    "        print(\"Error during transformation:\", e)\n",
    "        return None\n",
    "\n",
    "   \n",
    "    # Make the prediction\n",
    "    predicted_yield = dtr.predict(transformed_features).reshape(1, -1)\n",
    "\n",
    "    return predicted_yield[0]\n"
   ]
  },
  {
   "cell_type": "code",
   "execution_count": 22,
   "id": "d7621fda",
   "metadata": {},
   "outputs": [
    {
     "name": "stdout",
     "output_type": "stream",
     "text": [
      "Predicted yield: [283.47906121]\n"
     ]
    },
    {
     "name": "stderr",
     "output_type": "stream",
     "text": [
      "C:\\ProgramData\\anaconda3\\Lib\\site-packages\\sklearn\\base.py:464: UserWarning: X does not have valid feature names, but StandardScaler was fitted with feature names\n",
      "  warnings.warn(\n",
      "C:\\ProgramData\\anaconda3\\Lib\\site-packages\\sklearn\\base.py:464: UserWarning: X does not have valid feature names, but OneHotEncoder was fitted with feature names\n",
      "  warnings.warn(\n"
     ]
    }
   ],
   "source": [
    "\n",
    "# Example usage\n",
    "Crop_Year = 2023\n",
    "Area = 5000000\n",
    "Production = 100000\n",
    "Season = 'Summer'\n",
    "Crop = 'Jowar'\n",
    "\n",
    "predicted_yield = prediction(Crop_Year, Area, Production, Season, Crop)\n",
    "if predicted_yield is not None:\n",
    "    print(\"Predicted yield:\", predicted_yield*1000)\n"
   ]
  },
  {
   "cell_type": "code",
   "execution_count": 23,
   "id": "fcd79f3d",
   "metadata": {},
   "outputs": [],
   "source": [
    "import pickle\n",
    "pickle.dump(dtr,open('dtr.pkl','wb'))\n",
    "pickle.dump(preprocesser,open('preprocessor.pkl','wb'))"
   ]
  },
  {
   "cell_type": "code",
   "execution_count": 28,
   "id": "e210e4d8",
   "metadata": {},
   "outputs": [
    {
     "ename": "ModuleNotFoundError",
     "evalue": "No module named 'pycharm'",
     "output_type": "error",
     "traceback": [
      "\u001b[1;31m---------------------------------------------------------------------------\u001b[0m",
      "\u001b[1;31mModuleNotFoundError\u001b[0m                       Traceback (most recent call last)",
      "Cell \u001b[1;32mIn[28], line 1\u001b[0m\n\u001b[1;32m----> 1\u001b[0m \u001b[38;5;28;01mimport\u001b[39;00m \u001b[38;5;21;01mpycharm\u001b[39;00m\n\u001b[0;32m      2\u001b[0m \u001b[38;5;28mprint\u001b[39m(pycharm\u001b[38;5;241m.\u001b[39m__version__)\n",
      "\u001b[1;31mModuleNotFoundError\u001b[0m: No module named 'pycharm'"
     ]
    }
   ],
   "source": [
    "import sklearn\n",
    "print(sklearn.__version__)"
   ]
  },
  {
   "cell_type": "code",
   "execution_count": 26,
   "id": "1b709644",
   "metadata": {},
   "outputs": [
    {
     "data": {
      "text/plain": [
       "Season\n",
       "Kharif         6657\n",
       "Rabi           3338\n",
       "Summer          829\n",
       "Whole Year      510\n",
       "Autumn            6\n",
       "Name: count, dtype: int64"
      ]
     },
     "execution_count": 26,
     "metadata": {},
     "output_type": "execute_result"
    }
   ],
   "source": [
    "crop_data['Season'].value_counts()"
   ]
  },
  {
   "cell_type": "code",
   "execution_count": null,
   "id": "25110715",
   "metadata": {},
   "outputs": [],
   "source": []
  }
 ],
 "metadata": {
  "kernelspec": {
   "display_name": "Python 3 (ipykernel)",
   "language": "python",
   "name": "python3"
  },
  "language_info": {
   "codemirror_mode": {
    "name": "ipython",
    "version": 3
   },
   "file_extension": ".py",
   "mimetype": "text/x-python",
   "name": "python",
   "nbconvert_exporter": "python",
   "pygments_lexer": "ipython3",
   "version": "3.11.5"
  }
 },
 "nbformat": 4,
 "nbformat_minor": 5
}
